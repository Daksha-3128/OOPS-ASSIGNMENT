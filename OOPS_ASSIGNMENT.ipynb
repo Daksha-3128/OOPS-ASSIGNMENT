{
  "nbformat": 4,
  "nbformat_minor": 0,
  "metadata": {
    "colab": {
      "provenance": []
    },
    "kernelspec": {
      "name": "python3",
      "display_name": "Python 3"
    },
    "language_info": {
      "name": "python"
    }
  },
  "cells": [
    {
      "cell_type": "code",
      "execution_count": null,
      "metadata": {
        "id": "6GrTUc9Fvzin"
      },
      "outputs": [],
      "source": []
    },
    {
      "cell_type": "markdown",
      "source": [
        "# QUESTION-1 What is object oriented programming (oop)?\n",
        "# ANSWER-1. It is a programming paradigm based on the concept of objects,which contain data and methods.\n",
        "# It emphasizes modularity,code,reuse,and data abstraction"
      ],
      "metadata": {
        "id": "v3ufDZR8xhIN"
      }
    },
    {
      "cell_type": "markdown",
      "source": [
        "# QUESTION-2  What is class in OOP?\n",
        "# ANSWER- A class is a blueprint for creating objects . it defines attributes and methods that the objects created from it will have.\n"
      ],
      "metadata": {
        "id": "o3wxjrcyw813"
      }
    },
    {
      "cell_type": "markdown",
      "source": [
        "# QUESTION-3 What is an object in OOP?\n",
        "# ANSWER- An object is an instance of a class. It represents a specific entity with defined attributes and behaviour."
      ],
      "metadata": {
        "id": "AZrVlnTpxosH"
      }
    },
    {
      "cell_type": "markdown",
      "source": [
        "# QUESTION-4 What is the difference between abstraction and encapsulation?\n",
        "# ANSWER-Abstraction means hiding unnecessary details and showing only the essential features to the user.\n",
        "#Example: When you drive a car, you only use the steering and pedals, not the internal engine working.\n",
        "#Encapsulation means wrapping data and code together into a single unit and restricting direct access to some components.\n",
        "#Example: Making class variables private and accessing them using getter and setter methods.\n",
        "#Abstraction focuses on what to do, while encapsulation focuses on how to do it.\n",
        "#Abstraction is implemented using abstract classes or interfaces, whereas encapsulation is implemented using access modifiers (like private, public, etc.)."
      ],
      "metadata": {
        "id": "ICTWC6X2ymzl"
      }
    },
    {
      "cell_type": "markdown",
      "source": [
        "# QUESTION-5 What are dunder methods in python?\n",
        "# ANSWER- Dunder method( double underscore methods) are special methods in python that starts and end with__.\n",
        "# EXAMPLES\n",
        "# _init_() → constructor\n",
        "\n",
        "# _str_() → string representation\n"
      ],
      "metadata": {
        "id": "xJAZL-GzzAO6"
      }
    },
    {
      "cell_type": "markdown",
      "source": [
        "# QUESTION-6 Explain the concept of inheritence in OOP.\n",
        "# ANSWER- Inheritence allows a class (child/derived) to inherit attributes and methods from another class(parent/base)\n"
      ],
      "metadata": {
        "id": "nKg_HY-Pz00V"
      }
    },
    {
      "cell_type": "markdown",
      "source": [
        "# QUESTION-7 What is polymorphism in OOPS?\n",
        "# ANSWERS- Polymorphism means the same function name or operator behaves differently depending on the context or object type.\n"
      ],
      "metadata": {
        "id": "GipIzaPa14ja"
      }
    },
    {
      "cell_type": "markdown",
      "source": [
        "# QUESTION-8 How is encapsulation achieved in python?\n",
        "# ANSWER- Encapsulation in Python is achieved by:\n",
        "#Making variables private using double underscores (__variable).\n",
        "#Using getter and setter methods to access and modify those variables.\n",
        "#This helps protect data and control access to it.\n",
        "# Private variables with _ or __ (e.g., __name)\n",
        "\n",
        "Getter and setter methods or @property\n",
        "\n",
        "\n",
        "class Person:\n",
        "    def _init_(self):\n",
        "        self.__age = 0\n",
        "\n",
        "    def set_age(self, age):\n",
        "        self.__age = age\n",
        "\n",
        "    def get_age(self):\n",
        "        return self.__age\n",
        "\n"
      ],
      "metadata": {
        "id": "zqkPTYjj2SG2"
      }
    },
    {
      "cell_type": "markdown",
      "source": [
        "# QUESTION-9 What is a constructor in python?\n",
        "# ANSWER- __init__() is the constructor method in Python. It initializes the object when it is created.\n",
        "\n"
      ],
      "metadata": {
        "id": "psCEpL6k29bB"
      }
    },
    {
      "cell_type": "markdown",
      "source": [
        "# QUESTION-10 What are class and static methods in python?\n",
        "# ANSWER-Class methods use @classmethod and take cls as the first argument.\n",
        "\n",
        "# Static methods use @staticmethod and don't take self or cls."
      ],
      "metadata": {
        "id": "LinCpnVs3cff"
      }
    },
    {
      "cell_type": "markdown",
      "source": [
        "#Q11.What is method overloading in Python?\n",
        "# ANSWER- Method overloading means defining multiple methods with the same name but different parameters.\n",
        "#Python does not support true method overloading like some other languages (e.g., Java).\n",
        "#Instead, you can use default arguments or *args/kwargs to handle different numbers of arguments in a single method."
      ],
      "metadata": {
        "id": "VDPnuAkw313S"
      }
    },
    {
      "cell_type": "markdown",
      "source": [
        "#Q12.What is method overriding in OOP?\n",
        "#ANSWER- Method overriding occurs when a child class defines a method with the same name and parameters as a method in its parent class, to provide a different (customized) implementation."
      ],
      "metadata": {
        "id": "ZxmqSdGs4C8w"
      }
    },
    {
      "cell_type": "markdown",
      "source": [
        "#Q13.What is a property decorator in Python?\n",
        "# ANSWER-The property decorator lets you define a method that behaves like an attribute, often used to safely access private data.\n"
      ],
      "metadata": {
        "id": "z15pzGfs4J7v"
      }
    },
    {
      "cell_type": "markdown",
      "source": [
        "#Q14.Why is polymorphism important in OOP?\n",
        "# ANSWER- Code Reusability:\n",
        "#Same interface (method name) can be used for different types, reducing redundancy.\n",
        "\n",
        "#Flexibility:\n",
        "#Allows functions or methods to work with objects of different classes seamlessly.\n",
        "\n",
        "#Extensibility:\n",
        "#Makes it easier to add new classes without changing existing code.\n",
        "\n",
        "#Simplified Code:\n",
        "#You can write more general and cleaner code using common method names.\n",
        "\n",
        "#Supports Dynamic Behavior:\n",
        "#At runtime, the correct method is chosen based on the object’s class (method overriding)"
      ],
      "metadata": {
        "id": "qOWAHKcG4Qcz"
      }
    },
    {
      "cell_type": "markdown",
      "source": [
        "#Q15.What is an abstract class in Python?\n",
        "# ANSWER-An abstract class in Python is a class that cannot be instantiated and is meant to be inherited by other classes. It can contain abstract methods, which are methods declared but not implemented.\n"
      ],
      "metadata": {
        "id": "Ll5KK_Sf4YaO"
      }
    },
    {
      "cell_type": "markdown",
      "source": [
        "# QUESTION-16 What are the advantages of OOP?\n",
        "\n",
        "# ANSWER- Code reuse (inheritance)\n",
        "\n",
        "# Modularity\n",
        "\n",
        "# Easier debugging and maintenance\n",
        "\n",
        "#  Real-world modeling\n",
        "\n",
        "# Data hiding (encapsulation)\n"
      ],
      "metadata": {
        "id": "QnOK_-Nq4hil"
      }
    },
    {
      "cell_type": "markdown",
      "source": [
        "#QUESTION-17.What is the difference between a class variable and an instance variable?\n",
        "# ANSWER- Class Variable is shared by all instances of a class.\n",
        "#Instance Variable is unique to each object.\n",
        "#Class Variable is defined outside methods, inside the class.\n",
        "#Instance Variable is defined inside the _init_() method.\n",
        "#Changing a class variable affects all objects.\n",
        "#Changing an instance variable affects only that object."
      ],
      "metadata": {
        "id": "9bCBbWEM5ddf"
      }
    },
    {
      "cell_type": "markdown",
      "source": [
        "# QUESTION-18 What is multiple inheritance in Python?\n",
        "\n",
        "# ANSWER- A class can inherit from multiple parent classes.\n",
        "\n",
        "#class A:\n",
        "#   pass\n",
        "#class B:\n",
        "#    pass\n",
        "#class C(A, B):\n",
        "#    pass"
      ],
      "metadata": {
        "id": "0GRiSJqt6IrJ"
      }
    },
    {
      "cell_type": "markdown",
      "source": [
        "# QUESTION-19 Explain the purpose of _str_ and _repr_ methods in Python.\n",
        "\n",
        "# ANSWER- _str_ → Returns a user-friendly string version.\n",
        "\n",
        "#_repr_ → Returns a developer-friendly string (can recreate object).\n",
        "\n",
        "\n",
        "#def _str_(self):\n",
        "#    return f\"Person({self.name})\"\n",
        "\n",
        "#def _repr_(self):\n",
        "#    return f\"Person('{self.name}')\""
      ],
      "metadata": {
        "id": "snqnzAml6p5i"
      }
    },
    {
      "cell_type": "markdown",
      "source": [
        "# QUESTION-20. What is the significance of the super() function in Python?\n",
        "\n",
        "# ANSWER- super() allows you to call methods from a parent class. Used especially with inheritance to avoid duplicating code.\n",
        "\n",
        "\n",
        "#class Child(Parent):\n",
        "#    def _init_(self):\n",
        "#        super()._init_()  # calls Parent constructor"
      ],
      "metadata": {
        "id": "0kw6dyIH7Can"
      }
    },
    {
      "cell_type": "markdown",
      "source": [
        "# QUESTION-21 What is the significance of the _del_ method in Python?\n",
        "\n",
        "# ANSWER- _del_ is a destructor method called when an object is about to be destroyed. Used to clean up resources (not commonly used).\n",
        "\n",
        "# def _del_(self):\n",
        "#    print(\"Object deleted\")"
      ],
      "metadata": {
        "id": "hpIZNSBU7miU"
      }
    },
    {
      "cell_type": "markdown",
      "source": [
        "#Q22.What is the difference between @staticmethod and @classmethod in Python?\n",
        "#@classmethod → uses\n",
        "# @classmethod, works with the class.\n",
        "#@staticmethod → uses\n",
        "# @staticmethod, works independently of class or instance.\n",
        "'\n",
        "\n",
        "\n"
      ],
      "metadata": {
        "id": "9hPKaIQP76UB"
      }
    },
    {
      "cell_type": "markdown",
      "source": [
        "#Q23.How does polymorphism work in Python with inheritance?\n",
        "# ANSWER- Polymorphism with inheritance lets a single function (like make_sound()) work with objects of different classes, and the correct overridden method is called based on the object type at runtime."
      ],
      "metadata": {
        "id": "XwGVRXUF8nek"
      }
    },
    {
      "cell_type": "markdown",
      "source": [
        "#Q24.What is method chaining in Python OOP?\n",
        "# ANSWER-Method chaining allows calling multiple methods in one line by returning self, making the code cleaner and more readable."
      ],
      "metadata": {
        "id": "C9-ft89D83km"
      }
    },
    {
      "cell_type": "markdown",
      "source": [
        "#Q25.What is the purpose of the _call_ method in Python?\n",
        "# ANSWER - _call_() → called when an object is called like a function."
      ],
      "metadata": {
        "id": "erTFVDux86vS"
      }
    },
    {
      "cell_type": "markdown",
      "source": [
        "** PRACTICAL QUESTIONS** **bold text**"
      ],
      "metadata": {
        "id": "qz85TNhK9xDY"
      }
    },
    {
      "cell_type": "code",
      "source": [
        "# QUESTION-1. Create a parent class Animal with a method speak() that prints a generic message. Create a child class Dog that overrides the speak() method to print \"Bark!\".\n",
        "class Animal:\n",
        "    def speak(self):\n",
        "        print(\"Generic animal sound\")\n",
        "\n",
        "class Dog(Animal):\n",
        "    def speak(self):\n",
        "        print(\"Bark!\")\n"
      ],
      "metadata": {
        "id": "vTHYG6_SwuRX"
      },
      "execution_count": null,
      "outputs": []
    },
    {
      "cell_type": "code",
      "source": [
        "a = Animal()\n",
        "a.speak()\n"
      ],
      "metadata": {
        "colab": {
          "base_uri": "https://localhost:8080/"
        },
        "id": "WU2Xk_Vc_1IY",
        "outputId": "71e79fe1-8f23-4c0a-c42a-a79866b29aff"
      },
      "execution_count": null,
      "outputs": [
        {
          "output_type": "stream",
          "name": "stdout",
          "text": [
            "Generic animal sound\n"
          ]
        }
      ]
    },
    {
      "cell_type": "code",
      "source": [
        "# QUESTION-2 . Write a program to create an abstract class Shape with a method area(). Derive classes Circle and Rectangle from it and implement the area() method in both.\n",
        "from abc import ABC, abstractmethod\n",
        "import math\n",
        "\n",
        "class Shape(ABC):\n",
        "    @abstractmethod\n",
        "    def area(self):\n",
        "        pass\n",
        "\n",
        "class Circle(Shape):\n",
        "    def __init__(self, radius):\n",
        "        self.radius = radius\n",
        "\n",
        "    def area(self):\n",
        "        return math.pi * self.radius ** 2\n",
        "\n",
        "class Rectangle(Shape):\n",
        "    def __init__(self, width, height):\n",
        "        self.width = width\n",
        "        self.height = height\n",
        "\n",
        "    def area(self):\n",
        "        return self.width * self.height\n",
        "\n",
        "\n",
        "\n"
      ],
      "metadata": {
        "id": "C8mUh-I6Au9I"
      },
      "execution_count": 11,
      "outputs": []
    },
    {
      "cell_type": "code",
      "source": [
        "c=Circle(5)\n",
        "c.area()"
      ],
      "metadata": {
        "id": "GtUMhAAx_7EV",
        "colab": {
          "base_uri": "https://localhost:8080/"
        },
        "outputId": "af25cf27-eff9-4c3e-df7a-6fa8f52dc1b3"
      },
      "execution_count": 9,
      "outputs": [
        {
          "output_type": "execute_result",
          "data": {
            "text/plain": [
              "78.53981633974483"
            ]
          },
          "metadata": {},
          "execution_count": 9
        }
      ]
    },
    {
      "cell_type": "code",
      "source": [
        "r= Rectangle(4,5)\n",
        "r.area()"
      ],
      "metadata": {
        "colab": {
          "base_uri": "https://localhost:8080/"
        },
        "id": "LKleeXxrDB0N",
        "outputId": "34f1edaf-fa85-4e1d-9ca5-7ad7ba43224b"
      },
      "execution_count": 12,
      "outputs": [
        {
          "output_type": "execute_result",
          "data": {
            "text/plain": [
              "20"
            ]
          },
          "metadata": {},
          "execution_count": 12
        }
      ]
    },
    {
      "cell_type": "code",
      "source": [
        "# QUESTION-3 Implement a multi-level inheritance scenario where a class Vehicle has an attribute type. Derive a class Car and further derive a class ElectricCar that adds a battery attribute.\n",
        "class Vehicle:\n",
        "    def __init__(self, vehicle_type):\n",
        "        self.vehicle_type = vehicle_type\n",
        "\n",
        "class Car(Vehicle):\n",
        "    def __init__(self, vehicle_type, brand):\n",
        "        super().__init__(vehicle_type)\n",
        "        self.brand = brand\n",
        "\n",
        "class ElectricCar(Car):\n",
        "    def __init__(self, vehicle_type, brand, battery):\n",
        "        super().__init__(vehicle_type, brand)\n",
        "        self.battery = battery\n",
        "\n",
        "e_car = ElectricCar(\"Four Wheeler\", \"Tesla\", \"75 kWh\")\n",
        "print(e_car.vehicle_type, e_car.brand, e_car.battery)"
      ],
      "metadata": {
        "colab": {
          "base_uri": "https://localhost:8080/"
        },
        "id": "UHWoqJfrDR10",
        "outputId": "190ca745-41d4-4fdc-b385-d9485faa207f"
      },
      "execution_count": 16,
      "outputs": [
        {
          "output_type": "stream",
          "name": "stdout",
          "text": [
            "Four Wheeler Tesla 75 kWh\n"
          ]
        }
      ]
    },
    {
      "cell_type": "code",
      "source": [
        "# QUESTION-4 Demonstrate polymorphism by creating a base class Bird with a method fly(). Create two derived classes Sparrow and Penguin that override the fly() method.\n",
        "class Bird:\n",
        "    def fly(self):\n",
        "        print(\"Bird can fly\")\n",
        "\n",
        "class Sparrow(Bird):\n",
        "    def fly(self):\n",
        "        print(\"Sparrow flies high\")\n",
        "\n",
        "class Penguin(Bird):\n",
        "    def fly(self):\n",
        "        print(\"Penguins can't fly\")\n",
        "\n",
        "def bird_flight(bird):\n",
        "    bird.fly()\n",
        "\n",
        "bird_flight(Sparrow())\n",
        "bird_flight(Penguin())\n"
      ],
      "metadata": {
        "colab": {
          "base_uri": "https://localhost:8080/"
        },
        "id": "95LghlgQD-5w",
        "outputId": "0c8f40e1-4a10-452e-ea28-ea02570fc3c3"
      },
      "execution_count": 18,
      "outputs": [
        {
          "output_type": "stream",
          "name": "stdout",
          "text": [
            "Sparrow flies high\n",
            "Penguins can't fly\n"
          ]
        }
      ]
    },
    {
      "cell_type": "code",
      "source": [
        "# QUESTION-5  Write a program to demonstrate encapsulation by creating a class BankAccount with private attributes balance and methods to deposit, withdraw, and check balance.\n",
        "class BankAccount:\n",
        "    def __init__(self):\n",
        "        self.__balance = 0\n",
        "\n",
        "    def deposit(self, amount):\n",
        "        if amount > 0:\n",
        "            self.__balance += amount\n",
        "\n",
        "    def withdraw(self, amount):\n",
        "        if 0 < amount <= self.__balance:\n",
        "            self.__balance -= amount\n",
        "        else:\n",
        "            print(\"Insufficient balance\")\n",
        "\n",
        "    def get_balance(self):\n",
        "        return self.__balance\n",
        "\n",
        "acc = BankAccount()\n",
        "acc.deposit(1000)\n",
        "acc.withdraw(200)\n",
        "print(\"Balance:\", acc.get_balance())"
      ],
      "metadata": {
        "colab": {
          "base_uri": "https://localhost:8080/"
        },
        "id": "Hd37BRYIEpgo",
        "outputId": "36aab1ba-7621-4f57-aa38-1e5a3ba425cb"
      },
      "execution_count": 20,
      "outputs": [
        {
          "output_type": "stream",
          "name": "stdout",
          "text": [
            "Balance: 800\n"
          ]
        }
      ]
    },
    {
      "cell_type": "code",
      "source": [
        "# QUESTION-6. Demonstrate runtime polymorphism using a method play() in a base class Instrument. Derive classes Guitar and Piano that implement their own version of play().\n",
        "class Instrument:\n",
        "    def play(self):\n",
        "        print(\"Playing an instrument\")\n",
        "\n",
        "class Guitar(Instrument):\n",
        "    def play(self):\n",
        "        print(\"Strumming the guitar\")\n",
        "\n",
        "class Piano(Instrument):\n",
        "    def play(self):\n",
        "        print(\"Playing the piano\")\n",
        "\n",
        "def start_playing(instrument):\n",
        "    instrument.play()\n",
        "\n",
        "start_playing(Guitar())\n",
        "start_playing(Piano())"
      ],
      "metadata": {
        "colab": {
          "base_uri": "https://localhost:8080/"
        },
        "id": "TjjIWVNZFEAW",
        "outputId": "55248883-7bd9-45ab-dd1f-624834faafab"
      },
      "execution_count": 22,
      "outputs": [
        {
          "output_type": "stream",
          "name": "stdout",
          "text": [
            "Strumming the guitar\n",
            "Playing the piano\n"
          ]
        }
      ]
    },
    {
      "cell_type": "code",
      "source": [
        "# QUESTION-7. Create a class MathOperations with a class method add_numbers() to add two numbers and a static method subtract_numbers() to subtract two numbers.\n",
        "class MathOperations:\n",
        "    @classmethod\n",
        "    def add_numbers(cls, a, b):\n",
        "        return a + b\n",
        "\n",
        "    @staticmethod\n",
        "    def subtract_numbers(a, b):\n",
        "        return a - b\n",
        "\n",
        "print(\"Addition:\", MathOperations.add_numbers(10, 5))\n",
        "print(\"Subtraction:\", MathOperations.subtract_numbers(10, 5))"
      ],
      "metadata": {
        "colab": {
          "base_uri": "https://localhost:8080/"
        },
        "id": "Qeou3FzDFdeH",
        "outputId": "69b4a381-9484-4e9a-eb1f-18a8813ae1a8"
      },
      "execution_count": 23,
      "outputs": [
        {
          "output_type": "stream",
          "name": "stdout",
          "text": [
            "Addition: 15\n",
            "Subtraction: 5\n"
          ]
        }
      ]
    },
    {
      "cell_type": "code",
      "source": [
        "# QUESTION-8. Implement a class Person with a class method to count the total number of persons created\n",
        "class Person:\n",
        "    count = 0\n",
        "\n",
        "    def __init__(self, name):\n",
        "        self.name = name\n",
        "        Person.count += 1\n",
        "\n",
        "    @classmethod\n",
        "    def total_persons(cls):\n",
        "        return cls.count\n",
        "\n",
        "p1 = Person(\"Alice\")\n",
        "p2 = Person(\"Bob\")\n",
        "print(\"Total persons created:\", Person.total_persons())"
      ],
      "metadata": {
        "colab": {
          "base_uri": "https://localhost:8080/"
        },
        "id": "FTDofXYbFyEr",
        "outputId": "338c7d09-4a72-49fd-c699-2b322102a058"
      },
      "execution_count": 25,
      "outputs": [
        {
          "output_type": "stream",
          "name": "stdout",
          "text": [
            "Total persons created: 2\n"
          ]
        }
      ]
    },
    {
      "cell_type": "code",
      "source": [
        "# QUESTION-9 . Write a class Fraction with attributes numerator and denominator. Override the str method to display the fraction as \"numerator/denominator\".\n",
        "class Fraction:\n",
        "    def __init__(self, numerator, denominator):\n",
        "        self.numerator = numerator\n",
        "        self.denominator = denominator\n",
        "\n",
        "    def _str_(self):\n",
        "        return f\"{self.numerator}/{self.denominator}\"\n",
        "\n",
        "f = Fraction(3, 4)\n",
        "print(f)"
      ],
      "metadata": {
        "colab": {
          "base_uri": "https://localhost:8080/"
        },
        "id": "vdiTH5CTGR7S",
        "outputId": "45931705-6220-4bfb-e7f7-1dce1ea70e04"
      },
      "execution_count": 27,
      "outputs": [
        {
          "output_type": "stream",
          "name": "stdout",
          "text": [
            "<__main__.Fraction object at 0x7974ec7f3050>\n"
          ]
        }
      ]
    },
    {
      "cell_type": "code",
      "source": [
        "# QUESTION-10 . Demonstrate operator overloading by creating a class Vector and overriding the add method to add two vectors.\n",
        "class Vector:\n",
        "    def __init__(self, x, y):\n",
        "        self.x = x\n",
        "        self.y = y\n",
        "\n",
        "    def __add__(self, other):\n",
        "        return Vector(self.x + other.x, self.y + other.y)\n",
        "\n",
        "    def __str__(self):\n",
        "        return f\"({self.x}, {self.y})\"\n",
        "\n",
        "v1 = Vector(2, 3)\n",
        "v2 = Vector(4, 5)\n",
        "print(\"Sum of vectors:\", v1 + v2)\n"
      ],
      "metadata": {
        "colab": {
          "base_uri": "https://localhost:8080/"
        },
        "id": "jS4AxpAhGkpi",
        "outputId": "568d9b88-4b96-4c3d-b1f6-94674fad3e02"
      },
      "execution_count": 32,
      "outputs": [
        {
          "output_type": "stream",
          "name": "stdout",
          "text": [
            "Sum of vectors: (6, 8)\n"
          ]
        }
      ]
    },
    {
      "cell_type": "code",
      "source": [
        "# QUESTION-11. Create a class Person with attributes name and age. Add a method greet() that prints \"Hello, my name is {name} and I am (age) years old.\"\n",
        "class Person:\n",
        "    def __init__(self, name, age):\n",
        "        self.name = name\n",
        "        self.age = age\n",
        "\n",
        "    def greet(self):\n",
        "        print(f\"Hello, my name is {self.name} and I am {self.age} years old.\")\n",
        "\n",
        "\n",
        "p = Person(\"Daksha\", 21)\n",
        "p.greet()"
      ],
      "metadata": {
        "colab": {
          "base_uri": "https://localhost:8080/"
        },
        "id": "m8afeYVgHYJ6",
        "outputId": "e8d1ed9e-fc3d-4ecf-a6f3-ac2ab277fc19"
      },
      "execution_count": 33,
      "outputs": [
        {
          "output_type": "stream",
          "name": "stdout",
          "text": [
            "Hello, my name is Daksha and I am 21 years old.\n"
          ]
        }
      ]
    },
    {
      "cell_type": "code",
      "source": [
        "#QUESTION-12. Implement a class Student with attributes name and grades. Create a method average_grade() to compute the average of the grades.\n",
        "class Student:\n",
        "    def __init__(self, name, grades):\n",
        "        self.name = name\n",
        "        self.grades = grades  # should be a list of numbers\n",
        "\n",
        "    def average_grade(self):\n",
        "        if not self.grades:\n",
        "            return 0\n",
        "        return sum(self.grades) / len(self.grades)\n",
        "\n",
        "\n",
        "s = Student(\"Aryan\", [85, 90, 78])\n",
        "print(f\"{s.name}'s average grade is {s.average_grade():.2f}\")"
      ],
      "metadata": {
        "colab": {
          "base_uri": "https://localhost:8080/"
        },
        "id": "BcBcyn8CHkCI",
        "outputId": "9b01f7c4-ad10-4023-85bd-3df0cbc3b327"
      },
      "execution_count": 43,
      "outputs": [
        {
          "output_type": "stream",
          "name": "stdout",
          "text": [
            "Aryan's average grade is 84.33\n"
          ]
        }
      ]
    },
    {
      "cell_type": "code",
      "source": [
        "# QUESTION-13. Create a class Rectangle with methods set_dimensions() to set the dimensions and area() to calculate the area.\n",
        "class Rectangle:\n",
        "    def __init__(self):\n",
        "        self.length = 0\n",
        "        self.width = 0\n",
        "\n",
        "    def set_dimensions(self, length, width):\n",
        "        self.length = length\n",
        "        self.width = width\n",
        "\n",
        "    def area(self):\n",
        "        return self.length * self.width\n",
        "\n",
        "\n",
        "rect = Rectangle()\n",
        "rect.set_dimensions(5, 4)\n",
        "print(\"Area of rectangle:\", rect.area())"
      ],
      "metadata": {
        "colab": {
          "base_uri": "https://localhost:8080/"
        },
        "id": "9nQz1G_zHlMR",
        "outputId": "bff448ae-8c97-467b-e389-6c66a1e6e1dd"
      },
      "execution_count": 35,
      "outputs": [
        {
          "output_type": "stream",
          "name": "stdout",
          "text": [
            "Area of rectangle: 20\n"
          ]
        }
      ]
    },
    {
      "cell_type": "code",
      "source": [
        "# QUESTION-14. Create a class Employee with a method calculate salary() thut computes the salary based on hours worked and hourly rate. Create a derived class Manager that adds a bonus to the salary\n",
        "class Employee:\n",
        "    def __init__(self, name, hours_worked, hourly_rate):\n",
        "        self.name = name\n",
        "        self.hours_worked = hours_worked\n",
        "        self.hourly_rate = hourly_rate\n",
        "\n",
        "    def calculate_salary(self):\n",
        "        return self.hours_worked * self.hourly_rate\n",
        "\n",
        "class Manager(Employee):\n",
        "    def __init__(self, name, hours_worked, hourly_rate, bonus):\n",
        "        super().__init__(name, hours_worked, hourly_rate)\n",
        "        self.bonus = bonus\n",
        "\n",
        "    def calculate_salary(self):\n",
        "        base_salary = super().calculate_salary()\n",
        "        return base_salary + self.bonus\n",
        "\n",
        "\n",
        "emp = Employee(\"Aryan\", 40, 200)\n",
        "mgr = Manager(\"Neha\", 40, 200, 5000)\n",
        "\n",
        "print(f\"{emp.name}'s Salary: ₹{emp.calculate_salary()}\")\n",
        "print(f\"{mgr.name}'s Salary (with bonus): ₹{mgr.calculate_salary()}\")"
      ],
      "metadata": {
        "colab": {
          "base_uri": "https://localhost:8080/"
        },
        "id": "eWWEHSwtH3to",
        "outputId": "ab6bfd8f-21ac-4f9e-de2a-2e918a1d17eb"
      },
      "execution_count": 44,
      "outputs": [
        {
          "output_type": "stream",
          "name": "stdout",
          "text": [
            "Aryan's Salary: ₹8000\n",
            "Neha's Salary (with bonus): ₹13000\n"
          ]
        }
      ]
    },
    {
      "cell_type": "code",
      "source": [
        "# QUESTION-15 Create a class Product with attributes name, price, and quantity, implement a method total_price() that calculates the total price of the product.\n",
        "class Product:\n",
        "    def __init__(self, name, price, quantity):\n",
        "        self.name = name\n",
        "        self.price = price\n",
        "        self.quantity = quantity\n",
        "\n",
        "    def total_price(self):\n",
        "        return self.price * self.quantity\n",
        "\n",
        "\n",
        "p = Product(\"Laptop\", 50000, 2)\n",
        "print(f\"Total price of {p.name}: ₹{p.total_price()}\")"
      ],
      "metadata": {
        "colab": {
          "base_uri": "https://localhost:8080/"
        },
        "id": "f0D1eBWpH7A3",
        "outputId": "9434efae-f9a5-4de4-ec28-5772140a0017"
      },
      "execution_count": 45,
      "outputs": [
        {
          "output_type": "stream",
          "name": "stdout",
          "text": [
            "Total price of Laptop: ₹100000\n"
          ]
        }
      ]
    },
    {
      "cell_type": "code",
      "source": [
        "# QUESTION-16. Create a class Animal with an abstract method sound(). Create two derived classes Cow and Sheep that Implement the sound() method.\n",
        "from abc import ABC, abstractmethod\n",
        "\n",
        "class Animal(ABC):\n",
        "    @abstractmethod\n",
        "    def sound(self):\n",
        "        pass\n",
        "\n",
        "class Cow(Animal):\n",
        "    def sound(self):\n",
        "        print(\"Moo\")\n",
        "\n",
        "class Sheep(Animal):\n",
        "    def sound(self):\n",
        "        print(\"Baa\")\n",
        "\n",
        "\n",
        "c = Cow()\n",
        "s = Sheep()\n",
        "c.sound()\n",
        "s.sound()\n"
      ],
      "metadata": {
        "colab": {
          "base_uri": "https://localhost:8080/"
        },
        "id": "EoiQlgSIH-S2",
        "outputId": "21d72591-dfbf-4e98-9183-9672ab880efd"
      },
      "execution_count": 39,
      "outputs": [
        {
          "output_type": "stream",
          "name": "stdout",
          "text": [
            "Moo\n",
            "Baa\n"
          ]
        }
      ]
    },
    {
      "cell_type": "code",
      "source": [
        "# QUESTION-17. Create a class Book with attributes title, author, and year published. Add a method get_book_info) that returns a formatted string with the book's details.\n",
        "class Book:\n",
        "    def __init__(self, title, author, year_published):\n",
        "        self.title = title\n",
        "        self.author = author\n",
        "        self.year_published = year_published\n",
        "\n",
        "    def get_book_info(self):\n",
        "        return f\"'{self.title}' by {self.author} (Published: {self.year_published})\"\n",
        "\n",
        "\n",
        "b = Book(\"The Alchemist\", \"Paulo Coelho\", 1988)\n",
        "print(b.get_book_info())\n"
      ],
      "metadata": {
        "colab": {
          "base_uri": "https://localhost:8080/"
        },
        "id": "Ssr6EXyRIZik",
        "outputId": "0a1275d2-0312-4abb-91c0-32d704794147"
      },
      "execution_count": 40,
      "outputs": [
        {
          "output_type": "stream",
          "name": "stdout",
          "text": [
            "'The Alchemist' by Paulo Coelho (Published: 1988)\n"
          ]
        }
      ]
    },
    {
      "cell_type": "code",
      "source": [
        "# QUESTION-18. Create a class House with attributes address and price. Create a derived class Mansion that adds an attribute number_of_rooms\n",
        "class House:\n",
        "    def __init__(self, address, price):\n",
        "        self.address = address\n",
        "        self.price = price\n",
        "\n",
        "class Mansion(House):\n",
        "    def __init__(self, address, price, number_of_rooms):\n",
        "        super().__init__(address, price)\n",
        "        self.number_of_rooms = number_of_rooms\n",
        "\n",
        "\n",
        "m = Mansion(\"123 Luxury Street\", 50000000, 10)\n",
        "print(f\"Mansion at {m.address}, Price: ₹{m.price}, Rooms: {m.number_of_rooms}\")\n"
      ],
      "metadata": {
        "colab": {
          "base_uri": "https://localhost:8080/"
        },
        "id": "W7NqZBCLIhox",
        "outputId": "90dc8744-264f-4b9d-cb07-f9e109d68d20"
      },
      "execution_count": 42,
      "outputs": [
        {
          "output_type": "stream",
          "name": "stdout",
          "text": [
            "Mansion at 123 Luxury Street, Price: ₹50000000, Rooms: 10\n"
          ]
        }
      ]
    }
  ]
}